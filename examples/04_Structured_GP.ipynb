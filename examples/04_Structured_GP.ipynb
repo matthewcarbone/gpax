{
 "cells": [
  {
   "cell_type": "code",
   "execution_count": null,
   "id": "baf238f0-274a-43b5-b322-a727d92a9119",
   "metadata": {},
   "outputs": [],
   "source": [
    "%load_ext autoreload\n",
    "%autoreload 2\n",
    "%config Completer.use_jedi = False"
   ]
  },
  {
   "cell_type": "code",
   "execution_count": null,
   "id": "ef8dd3e7-6efc-40b1-bc92-d00e942e95b3",
   "metadata": {},
   "outputs": [],
   "source": [
    "from tqdm import tqdm\n",
    "import numpy as np\n",
    "from attrs import define, field"
   ]
  },
  {
   "cell_type": "code",
   "execution_count": null,
   "id": "d2f51365-e152-48fd-b205-f12db724e29b",
   "metadata": {},
   "outputs": [],
   "source": [
    "import matplotlib.pyplot as plt\n",
    "import matplotlib as mpl\n",
    "\n",
    "# Convenience for making pretty plots\n",
    "mpl.rcParams['mathtext.fontset'] = 'stix'\n",
    "mpl.rcParams['font.family'] = 'STIXGeneral'\n",
    "plt.rc('xtick', labelsize=12)\n",
    "plt.rc('ytick', labelsize=12)\n",
    "plt.rc('axes', labelsize=12)\n",
    "mpl.rcParams['figure.dpi'] = 300"
   ]
  },
  {
   "cell_type": "code",
   "execution_count": null,
   "id": "b4210c5d-4100-4cfe-b32e-007a7f50af96",
   "metadata": {},
   "outputs": [],
   "source": [
    "from gpax.gp import ExactGP\n",
    "from gpax.kernels import MaternKernel"
   ]
  },
  {
   "cell_type": "code",
   "execution_count": null,
   "id": "918658e7-6e17-4584-aa0c-4a88f3b51c41",
   "metadata": {},
   "outputs": [],
   "source": [
    "def piecewise1(x, params):\n",
    "    return np.piecewise(\n",
    "        x,\n",
    "        [x < params[\"t\"], x >= params[\"t\"]],\n",
    "        [lambda x: x**params[\"beta1\"], lambda x: x**params[\"beta2\"]])\n",
    "\n",
    "NUM_INIT_POINTS = 15 # number of observation points\n",
    "NOISE_LEVEL = 0.1\n",
    "PARAMS = {\"t\": 1.7, \"beta1\": 4.5, \"beta2\": 2.5}\n",
    "\n",
    "np.random.seed(1)\n",
    "x = np.random.uniform(0, 3, NUM_INIT_POINTS)\n",
    "y = piecewise1(x, PARAMS) + np.random.normal(0., NOISE_LEVEL, NUM_INIT_POINTS)\n",
    "\n",
    "x_grid = np.linspace(0, 3, 200)"
   ]
  },
  {
   "cell_type": "code",
   "execution_count": null,
   "id": "7a0c293d-2e7a-4dd6-8214-d443239e3d59",
   "metadata": {},
   "outputs": [],
   "source": [
    "_, ax = plt.subplots(1, 1, figsize=(6, 2))\n",
    "ax.scatter(x, y, alpha=0.5, c='k', marker='x', label=\"Noisy observations\")\n",
    "ax.legend()\n",
    "ax.set_xlabel(\"$x$\")\n",
    "ax.set_ylabel(\"$y$\")\n",
    "ax.set_xlim(0, 3)\n",
    "\n",
    "plt.show()"
   ]
  },
  {
   "cell_type": "code",
   "execution_count": null,
   "id": "965db833-bb02-4b17-ba86-b7f0da0f4523",
   "metadata": {},
   "outputs": [],
   "source": [
    "gp = ExactGP(kernel=MaternKernel(), x=x, y=y, y_std=None, hp_samples=500, observation_noise=False)\n",
    "gp.fit()\n",
    "mu, sd = gp.predict(x_grid)\n",
    "ci = [mu - 2*sd, mu + 2*sd]"
   ]
  },
  {
   "cell_type": "code",
   "execution_count": null,
   "id": "c256cbe7-9788-4101-933d-417146c02eae",
   "metadata": {},
   "outputs": [],
   "source": [
    "samples = gp.sample(x_grid)"
   ]
  },
  {
   "cell_type": "code",
   "execution_count": null,
   "id": "287e90be-a138-4c86-b558-521bd4ea8631",
   "metadata": {},
   "outputs": [],
   "source": [
    "fig, ax = plt.subplots(1, 1, figsize=(6, 2))\n",
    "ax.set_xlabel(\"$x$\")\n",
    "ax.set_ylabel(\"$y$\")\n",
    "ax.scatter(x, y, marker='x', c='k', zorder=1, label=\"Noisy observations\", alpha=0.7)\n",
    "for y1 in samples.y:\n",
    "    ax.plot(x_grid, y1.mean(0), lw=.1, zorder=0, c='r', alpha=.1)\n",
    "ax.plot(x_grid, piecewise1(x_grid, PARAMS), c='k', linestyle='--', label='True function', alpha=0.5)\n",
    "ax.legend(loc='upper left')"
   ]
  },
  {
   "cell_type": "code",
   "execution_count": null,
   "id": "4345c2a9-778d-4990-ad4d-900ff2e18162",
   "metadata": {},
   "outputs": [],
   "source": [
    "import jax.numpy as jnp\n",
    "from gpax.means import Mean\n",
    "from gpax.utils.prior_utils import Parameter\n",
    "import numpyro"
   ]
  },
  {
   "cell_type": "code",
   "execution_count": null,
   "id": "492d52d4-aad5-453c-8541-eaaa4e3e025d",
   "metadata": {},
   "outputs": [],
   "source": [
    "@define\n",
    "class PiecewiseMeanPrior(Mean):\n",
    "    m_t = field(default=Parameter(numpyro.distributions.Uniform(0.5, 2.5)))\n",
    "    m_beta1 = field(default=Parameter(numpyro.distributions.LogNormal(0, 1)))\n",
    "    m_beta2 = field(default=Parameter(numpyro.distributions.LogNormal(0, 1)))\n",
    "    \n",
    "    def _mean_function(self, x, **params):\n",
    "        return jnp.piecewise(\n",
    "            x,\n",
    "            [x < params[\"m_t\"], x >= params[\"m_t\"]],\n",
    "            [lambda x: x**params[\"m_beta1\"], lambda x: x**params[\"m_beta2\"]]\n",
    "        )"
   ]
  },
  {
   "cell_type": "code",
   "execution_count": null,
   "id": "74bd2575-2dc4-4fe7-bf37-3514dda13d40",
   "metadata": {},
   "outputs": [],
   "source": [
    "gp = ExactGP(kernel=MaternKernel(), mean=PiecewiseMeanPrior(), input_transform=None, output_transform=None, x=x, y=y, y_std=None, hp_samples=500, observation_noise=False)\n",
    "gp.fit()"
   ]
  },
  {
   "cell_type": "code",
   "execution_count": null,
   "id": "6df86668-74d6-4e90-bcdd-289b8e86b34d",
   "metadata": {},
   "outputs": [],
   "source": [
    "mu, sd = gp.predict(x_grid)\n",
    "ci = [mu - 2*sd, mu + 2*sd]"
   ]
  },
  {
   "cell_type": "code",
   "execution_count": null,
   "id": "df9f5bb9-651b-4efd-8a83-381049d40f3d",
   "metadata": {},
   "outputs": [],
   "source": [
    "samples = gp.sample(x_grid)"
   ]
  },
  {
   "cell_type": "code",
   "execution_count": null,
   "id": "29492a17-dda4-4f4f-8e42-086b78bc926c",
   "metadata": {},
   "outputs": [],
   "source": [
    "fig, ax = plt.subplots(1, 1, figsize=(6, 2))\n",
    "ax.set_xlabel(\"$x$\")\n",
    "ax.set_ylabel(\"$y$\")\n",
    "ax.scatter(x, y, marker='x', c='k', zorder=1, label=\"Noisy observations\", alpha=0.7)\n",
    "for y1 in samples.y:\n",
    "    ax.plot(x_grid, y1.mean(0), lw=.1, zorder=0, c='r', alpha=.1)\n",
    "ax.plot(x_grid, piecewise1(x_grid, PARAMS), c='k', linestyle='--', label='True function', alpha=0.5)\n",
    "ax.legend(loc='upper left')"
   ]
  }
 ],
 "metadata": {
  "kernelspec": {
   "display_name": "Python 3 (ipykernel)",
   "language": "python",
   "name": "python3"
  },
  "language_info": {
   "codemirror_mode": {
    "name": "ipython",
    "version": 3
   },
   "file_extension": ".py",
   "mimetype": "text/x-python",
   "name": "python",
   "nbconvert_exporter": "python",
   "pygments_lexer": "ipython3",
   "version": "3.12.5"
  }
 },
 "nbformat": 4,
 "nbformat_minor": 5
}
