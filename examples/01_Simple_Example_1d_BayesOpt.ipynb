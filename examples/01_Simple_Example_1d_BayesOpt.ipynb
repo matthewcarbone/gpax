{
 "cells": [
  {
   "cell_type": "code",
   "execution_count": null,
   "id": "baf238f0-274a-43b5-b322-a727d92a9119",
   "metadata": {},
   "outputs": [],
   "source": [
    "%load_ext autoreload\n",
    "%autoreload 2\n",
    "%config Completer.use_jedi = False"
   ]
  },
  {
   "cell_type": "code",
   "execution_count": null,
   "id": "b2b82bac-20d8-4f4e-b66e-0ddf90ee6145",
   "metadata": {},
   "outputs": [],
   "source": [
    "from tqdm import tqdm\n",
    "import numpy as np"
   ]
  },
  {
   "cell_type": "code",
   "execution_count": null,
   "id": "d2f51365-e152-48fd-b205-f12db724e29b",
   "metadata": {},
   "outputs": [],
   "source": [
    "import matplotlib.pyplot as plt\n",
    "import matplotlib as mpl\n",
    "\n",
    "# Convenience for making pretty plots\n",
    "mpl.rcParams['mathtext.fontset'] = 'stix'\n",
    "mpl.rcParams['font.family'] = 'STIXGeneral'\n",
    "plt.rc('xtick', labelsize=12)\n",
    "plt.rc('ytick', labelsize=12)\n",
    "plt.rc('axes', labelsize=12)\n",
    "mpl.rcParams['figure.dpi'] = 300"
   ]
  },
  {
   "cell_type": "code",
   "execution_count": null,
   "id": "b4210c5d-4100-4cfe-b32e-007a7f50af96",
   "metadata": {},
   "outputs": [],
   "source": [
    "from gpax.kernels import RBFKernel\n",
    "from gpax.gp import ExactGP\n",
    "from gpax.state import set_rng_key, silent_mode\n",
    "from gpax.acquisition import UpperConfidenceBound\n",
    "from gpax.utils.experiments import SimpleSinusoidal1d"
   ]
  },
  {
   "cell_type": "markdown",
   "id": "ffa638b6-398a-450e-8437-34599259382f",
   "metadata": {},
   "source": [
    "# Basic active learning"
   ]
  },
  {
   "cell_type": "markdown",
   "id": "2f6b0f2c-0815-4893-9c74-70a124e66229",
   "metadata": {},
   "source": [
    "Here we present a very simple experiment showcasing how active learning can be done using GPax. We'll use a fully exploratory acquisition function: maximum variance, which is initialized using `UpperConfidenceBound` (UCB) with `beta=float('inf')` (or `np.inf` or related). This tells UCB to only consider the posterior variance when choosing the next experiment. The long story short is that at each step, the point at which the variance is largest will be chosen for the next experiment, and Monte Carlo sampling will be used to determine where that maximum is."
   ]
  },
  {
   "cell_type": "code",
   "execution_count": null,
   "id": "219e407c-b359-497e-8dec-1ca0b2101f97",
   "metadata": {},
   "outputs": [],
   "source": [
    "set_rng_key(1)"
   ]
  },
  {
   "cell_type": "code",
   "execution_count": null,
   "id": "d0a809f2-27fb-4450-9461-93a642504855",
   "metadata": {},
   "outputs": [],
   "source": [
    "experiment = SimpleSinusoidal1d()\n",
    "x, y = None, None\n",
    "x_grid = experiment.get_dense_coordinates(ppd=100)\n",
    "acqf = UpperConfidenceBound(beta=np.inf, q=1, bounds=experiment.domain, fast=True)"
   ]
  },
  {
   "cell_type": "code",
   "execution_count": null,
   "id": "97deeab8-59e9-43a5-82f8-fbd3ac8c60ca",
   "metadata": {},
   "outputs": [],
   "source": [
    "with silent_mode():\n",
    "    for iteration in tqdm(range(20), disable=True):   \n",
    "        gp = ExactGP(kernel=RBFKernel(), x=x, y=y, y_std=None, hp_samples=500, observation_noise=False)\n",
    "        if x is not None:\n",
    "            gp.fit()\n",
    "        x_star, y_star = acqf.optimize(gp, n=1000, method=\"Halton\")\n",
    "        y_exp = experiment(x_star)\n",
    "    \n",
    "        mu, sd = gp.predict(x_grid)\n",
    "        ci = [mu - 2*sd, mu + 2*sd]\n",
    "        \n",
    "        fig, axs = plt.subplots(1, 2, figsize=(6, 1), sharex=True)\n",
    "        ax = axs[0]\n",
    "        if x is not None:\n",
    "            ax.scatter(x, y)\n",
    "        ax.plot(x_grid, mu, \"r-\")\n",
    "        ax.plot(x_grid, experiment(x_grid), \"k--\")\n",
    "        ax.fill_between(x_grid.squeeze(), *ci, color=\"red\", alpha=0.5, linewidth=0)\n",
    "        ax.scatter(x_star, y_exp, marker=\"x\", zorder=3)\n",
    "        if iteration == 0:\n",
    "            ax.set_title(\"Experiment\")\n",
    "    \n",
    "        ax = axs[1]\n",
    "        v = acqf(gp, x_grid)\n",
    "        if x is not None:\n",
    "            ax.scatter(x, acqf(gp, x))\n",
    "        ax.plot(x_grid, v, \"b-\")\n",
    "        ax.scatter(x_star, acqf(gp, x_star), marker=\"x\", zorder=3)\n",
    "        if iteration == 0:\n",
    "            ax.set_title(\"Acquisition Function\")\n",
    "    \n",
    "        plt.subplots_adjust(wspace=0.4)\n",
    "        \n",
    "        plt.show()\n",
    "    \n",
    "        if x is not None:\n",
    "            x = np.append(x, x_star, axis=0)\n",
    "            y = np.append(y, y_exp)\n",
    "        else:\n",
    "            x = np.atleast_2d(x_star).copy()\n",
    "            y = np.atleast_1d(y_exp).copy()\n"
   ]
  },
  {
   "cell_type": "markdown",
   "id": "4b3c4cc2-4d37-47c3-8389-e946b5e5531d",
   "metadata": {},
   "source": [
    "Something a bit more exploitative:"
   ]
  },
  {
   "cell_type": "code",
   "execution_count": null,
   "id": "11f6986f-f9b3-42f1-9730-fe0102b8140c",
   "metadata": {},
   "outputs": [],
   "source": [
    "from gpax.utils.experiments import SimpleDecayingSinusoidal1d\n",
    "from gpax.acquisition import ExpectedImprovement"
   ]
  },
  {
   "cell_type": "code",
   "execution_count": null,
   "id": "5d658226-21cc-4442-a4cb-f6c7e1b1bb61",
   "metadata": {},
   "outputs": [],
   "source": [
    "set_rng_key(1)"
   ]
  },
  {
   "cell_type": "code",
   "execution_count": null,
   "id": "893d01e6-96a1-42ef-aedc-f78b170ac847",
   "metadata": {},
   "outputs": [],
   "source": [
    "experiment = SimpleDecayingSinusoidal1d()\n",
    "x, y = None, None\n",
    "x_grid = experiment.get_dense_coordinates(ppd=100)\n",
    "acqf = ExpectedImprovement(q=1, bounds=experiment.domain, fast=True)"
   ]
  },
  {
   "cell_type": "code",
   "execution_count": null,
   "id": "ade7bcde-60a4-4f5e-b0b6-f8fb39e5bdee",
   "metadata": {},
   "outputs": [],
   "source": [
    "with silent_mode():\n",
    "    for iteration in tqdm(range(20), disable=True):    \n",
    "        gp = ExactGP(kernel=RBFKernel(), x=x, y=y, y_std=None, hp_samples=500, observation_noise=False)\n",
    "        if x is not None:\n",
    "            gp.fit()\n",
    "        x_star, y_star = acqf.optimize(gp, n=1000, method=\"Halton\")\n",
    "        y_exp = experiment(x_star)\n",
    "    \n",
    "        mu, sd = gp.predict(x_grid)\n",
    "        ci = [mu - 2*sd, mu + 2*sd]\n",
    "        \n",
    "        fig, axs = plt.subplots(1, 2, figsize=(6, 1), sharex=True)\n",
    "        ax = axs[0]\n",
    "        if x is not None:\n",
    "            ax.scatter(x, y)\n",
    "        ax.plot(x_grid, mu, \"r-\")\n",
    "        ax.plot(x_grid, experiment(x_grid), \"k--\")\n",
    "        ax.fill_between(x_grid.squeeze(), *ci, color=\"red\", alpha=0.5, linewidth=0)\n",
    "        ax.scatter(x_star, y_exp, marker=\"x\", zorder=3)\n",
    "        if iteration == 0:\n",
    "            ax.set_title(\"Experiment\")\n",
    "    \n",
    "        ax = axs[1]\n",
    "        v = acqf(gp, x_grid)\n",
    "        if x is not None:\n",
    "            ax.scatter(x, acqf(gp, x))\n",
    "        ax.plot(x_grid, v, \"b-\")\n",
    "        ax.scatter(x_star, acqf(gp, x_star), marker=\"x\", zorder=3)\n",
    "        if iteration == 0:\n",
    "            ax.set_title(\"Acquisition Function\")\n",
    "    \n",
    "        plt.subplots_adjust(wspace=0.4)\n",
    "        \n",
    "        plt.show()\n",
    "    \n",
    "        if x is not None:\n",
    "            x = np.append(x, x_star, axis=0)\n",
    "            y = np.append(y, y_exp)\n",
    "        else:\n",
    "            x = np.atleast_2d(x_star).copy()\n",
    "            y = np.atleast_1d(y_exp).copy()\n"
   ]
  }
 ],
 "metadata": {
  "kernelspec": {
   "display_name": "Python 3 (ipykernel)",
   "language": "python",
   "name": "python3"
  },
  "language_info": {
   "codemirror_mode": {
    "name": "ipython",
    "version": 3
   },
   "file_extension": ".py",
   "mimetype": "text/x-python",
   "name": "python",
   "nbconvert_exporter": "python",
   "pygments_lexer": "ipython3",
   "version": "3.12.7"
  }
 },
 "nbformat": 4,
 "nbformat_minor": 5
}
