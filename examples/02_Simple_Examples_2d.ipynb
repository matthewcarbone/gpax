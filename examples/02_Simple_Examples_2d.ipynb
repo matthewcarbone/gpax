{
 "cells": [
  {
   "cell_type": "code",
   "execution_count": null,
   "id": "baf238f0-274a-43b5-b322-a727d92a9119",
   "metadata": {},
   "outputs": [],
   "source": [
    "%load_ext autoreload\n",
    "%autoreload 2\n",
    "%config Completer.use_jedi = False"
   ]
  },
  {
   "cell_type": "code",
   "execution_count": null,
   "id": "ef8dd3e7-6efc-40b1-bc92-d00e942e95b3",
   "metadata": {},
   "outputs": [],
   "source": [
    "from tqdm import tqdm\n",
    "import numpy as np"
   ]
  },
  {
   "cell_type": "code",
   "execution_count": null,
   "id": "d2f51365-e152-48fd-b205-f12db724e29b",
   "metadata": {},
   "outputs": [],
   "source": [
    "import matplotlib.pyplot as plt\n",
    "import matplotlib as mpl\n",
    "\n",
    "# Convenience for making pretty plots\n",
    "mpl.rcParams['mathtext.fontset'] = 'stix'\n",
    "mpl.rcParams['font.family'] = 'STIXGeneral'\n",
    "plt.rc('xtick', labelsize=12)\n",
    "plt.rc('ytick', labelsize=12)\n",
    "plt.rc('axes', labelsize=12)\n",
    "mpl.rcParams['figure.dpi'] = 300"
   ]
  },
  {
   "cell_type": "code",
   "execution_count": null,
   "id": "b4210c5d-4100-4cfe-b32e-007a7f50af96",
   "metadata": {},
   "outputs": [],
   "source": [
    "from gpax.kernels import RBFKernel\n",
    "from gpax.gp import ExactGP\n",
    "from gpax.state import set_rng_key, silent_mode\n",
    "from gpax.utils.experiments import Simple2d"
   ]
  },
  {
   "cell_type": "markdown",
   "id": "9c42160b-3d58-4d7d-8cf9-582e5c78f55f",
   "metadata": {},
   "source": [
    "# Bayesian Optimization with UCB"
   ]
  },
  {
   "cell_type": "markdown",
   "id": "b88f0571-2979-402f-a19f-b090ad8e9c99",
   "metadata": {},
   "source": [
    "We can do some slightly more complicated Bayesian optimization than what was presented in the previous notebook, but let's begin with the simplest once more: using UCB for pure exploration. We'll be using a more complicated function this time, `Simple2d`, which has a few local minima/maxima and one global maxima."
   ]
  },
  {
   "cell_type": "code",
   "execution_count": null,
   "id": "ae022f74-aea7-4b0c-bb06-fc0eacb15389",
   "metadata": {},
   "outputs": [],
   "source": [
    "from gpax.acquisition import UpperConfidenceBound"
   ]
  },
  {
   "cell_type": "code",
   "execution_count": null,
   "id": "7655c107-4c32-4ab0-b3c5-8778d36d1c70",
   "metadata": {},
   "outputs": [],
   "source": [
    "set_rng_key(1)\n",
    "experiment = Simple2d()\n",
    "ppd = 40\n",
    "x_grid = experiment.get_dense_coordinates(ppd=ppd)\n",
    "y_grid = experiment(x_grid)\n",
    "extent = experiment.get_domain_mpl_extent()"
   ]
  },
  {
   "cell_type": "code",
   "execution_count": null,
   "id": "995fa37c-9edf-4174-b852-60021edc9ed7",
   "metadata": {},
   "outputs": [],
   "source": [
    "acqf = UpperConfidenceBound(beta=np.inf, q=1, bounds=experiment.domain)"
   ]
  },
  {
   "cell_type": "code",
   "execution_count": null,
   "id": "833f0d81-6fb6-4509-bc73-6e6968b68771",
   "metadata": {},
   "outputs": [],
   "source": [
    "# Reset\n",
    "x = None\n",
    "y = None\n",
    "gps = []"
   ]
  },
  {
   "cell_type": "code",
   "execution_count": null,
   "id": "49d1c964-1e87-45b5-8b83-affc85b3760a",
   "metadata": {},
   "outputs": [],
   "source": [
    "plot_kwargs = {\"extent\": extent, \"interpolation\": \"nearest\", \"origin\": \"lower\", \"cmap\": \"viridis\"}\n",
    "\n",
    "with silent_mode():\n",
    "    for iteration in tqdm(range(20), disable=True):\n",
    "        gp = ExactGP(kernel=RBFKernel(), x=x, y=y, y_std=None, hp_samples=500, observation_noise=False)\n",
    "        if x is not None:\n",
    "            gp.fit()\n",
    "        x_star, y_star = acqf.optimize(gp, n=1000, method=\"Halton\")\n",
    "        y_exp = experiment(x_star)\n",
    "    \n",
    "        mu, sd = gp.predict(x_grid, fast=True)\n",
    "        mu = mu.reshape(ppd, ppd).T\n",
    "        sd = sd.reshape(ppd, ppd).T\n",
    "        \n",
    "        fig, axs = plt.subplots(1, 2, figsize=(6, 2), sharex=True)\n",
    "        ax = axs[0]\n",
    "        if x is not None:\n",
    "            ax.scatter(x[:, 0], x[:, 1])\n",
    "        ax.imshow(mu, **plot_kwargs)\n",
    "        ax.scatter(x_star[:, 0], x_star[:, 1], marker=\"x\", zorder=3)\n",
    "        if iteration == 0:\n",
    "            ax.set_title(\"Experiment\")\n",
    "    \n",
    "        ax = axs[1]\n",
    "        v = acqf(gp, x_grid)\n",
    "        v = v.reshape(ppd, ppd).T\n",
    "        if x is not None:\n",
    "            ax.scatter(x[:, 0], x[:, 1])\n",
    "        ax.imshow(v, **plot_kwargs)\n",
    "        # ax.plot(x_grid, v, \"b-\")\n",
    "        ax.scatter(x_star[:, 0], x_star[:, 1], marker=\"x\", zorder=3)\n",
    "        if iteration == 0:\n",
    "            ax.set_title(\"Acquisition Function\")\n",
    "        \n",
    "        plt.show()\n",
    "    \n",
    "        if x is not None:\n",
    "            x = np.append(x, x_star, axis=0)\n",
    "            y = np.append(y, y_exp)\n",
    "        else:\n",
    "            x = np.atleast_2d(x_star).copy()\n",
    "            y = np.atleast_1d(y_exp).copy()\n"
   ]
  },
  {
   "cell_type": "markdown",
   "id": "9d12a5be-a0be-455f-9330-7011b1a1873a",
   "metadata": {},
   "source": [
    "# Bayesian Optimization with UCB and a finite $\\beta$ value"
   ]
  },
  {
   "cell_type": "markdown",
   "id": "e264948e-ecd8-4a32-8ab7-08163c719c3e",
   "metadata": {},
   "source": [
    "Now, let's try the same thing but using a finite value for $beta$. This will actually attempt to find the maximum of the function instead of just mapping out the space."
   ]
  },
  {
   "cell_type": "code",
   "execution_count": null,
   "id": "12b44da1-b894-4450-aa1f-05db6ca32264",
   "metadata": {},
   "outputs": [],
   "source": [
    "from gpax.acquisition import UpperConfidenceBound"
   ]
  },
  {
   "cell_type": "code",
   "execution_count": null,
   "id": "8b91faaf-9ad4-44d5-a44b-6beffe6e8e69",
   "metadata": {},
   "outputs": [],
   "source": [
    "set_rng_key(1)\n",
    "experiment = Simple2d()\n",
    "ppd = 40\n",
    "x_grid = experiment.get_dense_coordinates(ppd=ppd)\n",
    "y_grid = experiment(x_grid)\n",
    "extent = experiment.get_domain_mpl_extent()"
   ]
  },
  {
   "cell_type": "code",
   "execution_count": null,
   "id": "0ba9580f-da35-4a31-be10-460ad2ee87f4",
   "metadata": {},
   "outputs": [],
   "source": [
    "acqf = UpperConfidenceBound(beta=20.0, q=1, bounds=experiment.domain)"
   ]
  },
  {
   "cell_type": "code",
   "execution_count": null,
   "id": "4c225e61-b942-4fbc-a9c6-17e8750b2d26",
   "metadata": {},
   "outputs": [],
   "source": [
    "# Reset\n",
    "x = None\n",
    "y = None\n",
    "gps = []"
   ]
  },
  {
   "cell_type": "code",
   "execution_count": null,
   "id": "c5a6366c-8a5e-4858-9922-e528438c5d6c",
   "metadata": {},
   "outputs": [],
   "source": [
    "plot_kwargs = {\"extent\": extent, \"interpolation\": \"nearest\", \"origin\": \"lower\", \"cmap\": \"viridis\"}\n",
    "\n",
    "with silent_mode():\n",
    "    for iteration in tqdm(range(20), disable=True):\n",
    "        gp = ExactGP(kernel=RBFKernel(), x=x, y=y, y_std=None, hp_samples=500, observation_noise=False)\n",
    "        if x is not None:\n",
    "            gp.fit()\n",
    "        x_star, y_star = acqf.optimize(gp, n=1000, method=\"Halton\")\n",
    "        y_exp = experiment(x_star)\n",
    "    \n",
    "        mu, sd = gp.predict(x_grid, fast=True)\n",
    "        mu = mu.reshape(ppd, ppd).T\n",
    "        sd = sd.reshape(ppd, ppd).T\n",
    "        \n",
    "        fig, axs = plt.subplots(1, 2, figsize=(6, 2), sharex=True)\n",
    "        ax = axs[0]\n",
    "        if x is not None:\n",
    "            ax.scatter(x[:, 0], x[:, 1])\n",
    "        ax.imshow(mu, **plot_kwargs)\n",
    "        ax.scatter(x_star[:, 0], x_star[:, 1], marker=\"x\", zorder=3)\n",
    "        if iteration == 0:\n",
    "            ax.set_title(\"Experiment\")\n",
    "    \n",
    "        ax = axs[1]\n",
    "        v = acqf(gp, x_grid)\n",
    "        v = v.reshape(ppd, ppd).T\n",
    "        if x is not None:\n",
    "            ax.scatter(x[:, 0], x[:, 1])\n",
    "        ax.imshow(v, **plot_kwargs)\n",
    "        # ax.plot(x_grid, v, \"b-\")\n",
    "        ax.scatter(x_star[:, 0], x_star[:, 1], marker=\"x\", zorder=3)\n",
    "        if iteration == 0:\n",
    "            ax.set_title(\"Acquisition Function\")\n",
    "        \n",
    "        plt.show()\n",
    "    \n",
    "        if x is not None:\n",
    "            x = np.append(x, x_star, axis=0)\n",
    "            y = np.append(y, y_exp)\n",
    "        else:\n",
    "            x = np.atleast_2d(x_star).copy()\n",
    "            y = np.atleast_1d(y_exp).copy()\n"
   ]
  },
  {
   "cell_type": "markdown",
   "id": "f427fefc-c690-47f7-b732-6b681f1989b6",
   "metadata": {},
   "source": [
    "# Expected Improvement"
   ]
  },
  {
   "cell_type": "markdown",
   "id": "b42b0515-3a0a-4fe0-b017-c13d4585d991",
   "metadata": {},
   "source": [
    "Similarly, we can use the `ExpectedImprovement` acquisition function, which is another way of trying to find the maximum."
   ]
  },
  {
   "cell_type": "code",
   "execution_count": null,
   "id": "49de6fa1-10fd-473e-ab90-e31fcbbe5137",
   "metadata": {},
   "outputs": [],
   "source": [
    "from gpax.acquisition import ExpectedImprovement"
   ]
  },
  {
   "cell_type": "code",
   "execution_count": null,
   "id": "70756560-b259-4374-b119-3891340ec756",
   "metadata": {},
   "outputs": [],
   "source": [
    "set_rng_key(50)\n",
    "experiment = Simple2d()\n",
    "ppd = 40\n",
    "x_grid = experiment.get_dense_coordinates(ppd=ppd)\n",
    "y_grid = experiment(x_grid)\n",
    "extent = experiment.get_domain_mpl_extent()"
   ]
  },
  {
   "cell_type": "code",
   "execution_count": null,
   "id": "6c3e798d-d6d6-44fc-9386-c3873a0a5353",
   "metadata": {},
   "outputs": [],
   "source": [
    "acqf = ExpectedImprovement(q=1, bounds=experiment.domain, fast=True)"
   ]
  },
  {
   "cell_type": "code",
   "execution_count": null,
   "id": "7d3eb2c4-ce94-4212-ac61-572efd24e2f5",
   "metadata": {},
   "outputs": [],
   "source": [
    "# Reset\n",
    "x = None\n",
    "y = None\n",
    "gps = []"
   ]
  },
  {
   "cell_type": "code",
   "execution_count": null,
   "id": "a81f2def-b204-428a-b9c2-4b8d85f15aec",
   "metadata": {},
   "outputs": [],
   "source": [
    "plot_kwargs = {\"extent\": extent, \"interpolation\": \"nearest\", \"origin\": \"lower\", \"cmap\": \"viridis\"}\n",
    "\n",
    "with silent_mode():\n",
    "    for iteration in tqdm(range(40), disable=True):\n",
    "        gp = ExactGP(kernel=RBFKernel(), x=x, y=y, y_std=None, hp_samples=500, observation_noise=False)\n",
    "        if x is not None:\n",
    "            gp.fit()\n",
    "        x_star, y_star = acqf.optimize(gp, n=1000, method=\"Halton\")\n",
    "        y_exp = experiment(x_star)\n",
    "    \n",
    "        mu, sd = gp.predict(x_grid, fast=True)\n",
    "        mu = mu.reshape(ppd, ppd).T\n",
    "        sd = sd.reshape(ppd, ppd).T\n",
    "        \n",
    "        fig, axs = plt.subplots(1, 3, figsize=(6, 2), sharex=True)\n",
    "        ax = axs[0]\n",
    "        if x is not None:\n",
    "            ax.scatter(x[:, 0], x[:, 1])\n",
    "        ax.imshow(mu, **plot_kwargs)\n",
    "        ax.scatter(x_star[:, 0], x_star[:, 1], marker=\"x\", zorder=3)\n",
    "        if iteration == 0:\n",
    "            ax.set_title(\"Experiment\")\n",
    "    \n",
    "        ax = axs[1]\n",
    "        v = acqf(gp, x_grid)\n",
    "        v = v.reshape(ppd, ppd).T\n",
    "        if x is not None:\n",
    "            ax.scatter(x[:, 0], x[:, 1])\n",
    "        ax.imshow(v, **plot_kwargs)\n",
    "        ax.scatter(x_star[:, 0], x_star[:, 1], marker=\"x\", zorder=3)\n",
    "        if iteration == 0:\n",
    "            ax.set_title(\"Acquisition Function\")\n",
    "    \n",
    "        ax = axs[2]\n",
    "        ax.imshow(y_grid.reshape(ppd, ppd).T, **plot_kwargs)\n",
    "        if iteration == 0:\n",
    "            ax.set_title(\"Ground Truth\")\n",
    "        \n",
    "        plt.show()\n",
    "    \n",
    "        if x is not None:\n",
    "            x = np.append(x, x_star, axis=0)\n",
    "            y = np.append(y, y_exp)\n",
    "        else:\n",
    "            x = np.atleast_2d(x_star).copy()\n",
    "            y = np.atleast_1d(y_exp).copy()\n"
   ]
  }
 ],
 "metadata": {
  "kernelspec": {
   "display_name": "Python 3 (ipykernel)",
   "language": "python",
   "name": "python3"
  },
  "language_info": {
   "codemirror_mode": {
    "name": "ipython",
    "version": 3
   },
   "file_extension": ".py",
   "mimetype": "text/x-python",
   "name": "python",
   "nbconvert_exporter": "python",
   "pygments_lexer": "ipython3",
   "version": "3.12.5"
  }
 },
 "nbformat": 4,
 "nbformat_minor": 5
}
