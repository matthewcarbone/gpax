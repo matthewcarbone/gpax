{
 "cells": [
  {
   "cell_type": "code",
   "execution_count": null,
   "id": "baf238f0-274a-43b5-b322-a727d92a9119",
   "metadata": {},
   "outputs": [],
   "source": [
    "%load_ext autoreload\n",
    "%autoreload 2\n",
    "%config Completer.use_jedi = False"
   ]
  },
  {
   "cell_type": "code",
   "execution_count": null,
   "id": "ef8dd3e7-6efc-40b1-bc92-d00e942e95b3",
   "metadata": {},
   "outputs": [],
   "source": [
    "import numpy as np"
   ]
  },
  {
   "cell_type": "code",
   "execution_count": null,
   "id": "d2f51365-e152-48fd-b205-f12db724e29b",
   "metadata": {},
   "outputs": [],
   "source": [
    "import matplotlib.pyplot as plt\n",
    "import matplotlib as mpl\n",
    "\n",
    "mpl.rcParams['mathtext.fontset'] = 'stix'\n",
    "mpl.rcParams['font.family'] = 'STIXGeneral'\n",
    "plt.rc('xtick', labelsize=12)\n",
    "plt.rc('ytick', labelsize=12)\n",
    "plt.rc('axes', labelsize=12)\n",
    "mpl.rcParams['figure.dpi'] = 300"
   ]
  },
  {
   "cell_type": "code",
   "execution_count": null,
   "id": "b4210c5d-4100-4cfe-b32e-007a7f50af96",
   "metadata": {},
   "outputs": [],
   "source": [
    "from gpax.kernels import RBFKernel\n",
    "from gpax.gp import ExactGP, VariationalInferenceGP\n",
    "from gpax.experiments import SimpleSinusoidal1d\n",
    "from gpax.state import set_rng_key, get_rng_key"
   ]
  },
  {
   "cell_type": "markdown",
   "id": "50238cd0-fabd-4ca8-a836-541c3392b493",
   "metadata": {},
   "source": [
    "# Set the experiment data and key"
   ]
  },
  {
   "cell_type": "code",
   "execution_count": null,
   "id": "219e407c-b359-497e-8dec-1ca0b2101f97",
   "metadata": {},
   "outputs": [],
   "source": [
    "set_rng_key(1)"
   ]
  },
  {
   "cell_type": "code",
   "execution_count": null,
   "id": "d0a809f2-27fb-4450-9461-93a642504855",
   "metadata": {},
   "outputs": [],
   "source": [
    "experiment = SimpleSinusoidal1d()\n",
    "x, y = experiment.default_dataset()\n",
    "x_grid = experiment.get_dense_coordinates(ppd=100)"
   ]
  },
  {
   "cell_type": "markdown",
   "id": "4feae6bc-ce4a-449c-83e9-fc430ce10e57",
   "metadata": {},
   "source": [
    "# Exact GP"
   ]
  },
  {
   "cell_type": "code",
   "execution_count": null,
   "id": "97deeab8-59e9-43a5-82f8-fbd3ac8c60ca",
   "metadata": {},
   "outputs": [],
   "source": [
    "gp = ExactGP(kernel=RBFKernel(), x=x, y=y, y_std=None, hp_samples=123, gp_samples=456, verbose=1)\n",
    "gp.fit()"
   ]
  },
  {
   "cell_type": "code",
   "execution_count": null,
   "id": "030ce961-4a8a-437b-947f-630bbeacf117",
   "metadata": {},
   "outputs": [],
   "source": [
    "samples = gp.sample(x_grid)\n",
    "mean, std = gp.predict(x_grid)"
   ]
  },
  {
   "cell_type": "code",
   "execution_count": null,
   "id": "92151142-0970-420b-adfd-803683f19b5f",
   "metadata": {},
   "outputs": [],
   "source": [
    "fig, ax = plt.subplots(1, 1, figsize=(3, 2))\n",
    "\n",
    "plot_kwargs = {\n",
    "    'linewidth': 0.0,\n",
    "    'marker': 's',\n",
    "    'ms': 1.0,\n",
    "    'capthick': 0.3,\n",
    "    'capsize': 2.0,\n",
    "    'elinewidth': 0.3\n",
    "}\n",
    "\n",
    "for yy in samples[\"y\"].mean(axis=1):\n",
    "    ax.plot(x_grid, yy, color=\"grey\", linewidth=0.5, alpha=0.4)\n",
    "\n",
    "ax.errorbar(x, y, yerr=gp.y_std if gp.y_std is not None else None, color=\"black\", zorder=3, **plot_kwargs)\n",
    "ax.plot(x_grid, mean, \"r-\")\n",
    "ax.fill_between(x_grid.squeeze(), mean - std, mean + std, color=\"red\", alpha=0.5, linewidth=0, zorder=3)\n",
    "\n",
    "plt.show()"
   ]
  },
  {
   "cell_type": "markdown",
   "id": "c48abcb4-6e54-4f28-a16e-7ef3ec1081c9",
   "metadata": {},
   "source": [
    "# Simple acquisition function test"
   ]
  },
  {
   "cell_type": "code",
   "execution_count": null,
   "id": "73ec3460-f138-4f99-a103-1e2285b69def",
   "metadata": {},
   "outputs": [],
   "source": [
    "from gpax.acquisition import UpperConfidenceBound, ExpectedImprovement"
   ]
  },
  {
   "cell_type": "code",
   "execution_count": null,
   "id": "309c59f6-069b-48dd-9eed-f2c5144e4314",
   "metadata": {},
   "outputs": [],
   "source": [
    "bounds = np.array([-1.1, 1.1]).reshape(-1, 1)"
   ]
  },
  {
   "cell_type": "markdown",
   "id": "2e050b28-4727-47d9-ac60-94046c10c547",
   "metadata": {},
   "source": [
    "## EI"
   ]
  },
  {
   "cell_type": "code",
   "execution_count": null,
   "id": "90422ffd-7443-4971-a510-f285dca42b60",
   "metadata": {},
   "outputs": [],
   "source": [
    "mc_samples = 1000\n",
    "acqf = ExpectedImprovement(q=1, bounds=bounds, verbose=1)\n",
    "x_star, y_star = acqf.optimize(gp, n=mc_samples, method=\"Halton\")\n",
    "print(x_star)\n",
    "acqf = ExpectedImprovement(q=2, bounds=bounds, verbose=1)\n",
    "x_star, y_star = acqf.optimize(gp, n=mc_samples, method=\"Halton\")\n",
    "print(x_star)"
   ]
  },
  {
   "cell_type": "markdown",
   "id": "4ae5feee-c3c7-4e02-b6d5-06485bf3cb04",
   "metadata": {},
   "source": [
    "## UCB"
   ]
  },
  {
   "cell_type": "code",
   "execution_count": null,
   "id": "65f1d17e-f0f7-4fec-945e-72d84c09d95f",
   "metadata": {},
   "outputs": [],
   "source": [
    "mc_samples = 1000\n",
    "acqf = UpperConfidenceBound(beta=np.inf, q=1, bounds=bounds, verbose=1)\n",
    "x_star, y_star = acqf.optimize(gp, n=mc_samples, method=\"Halton\")\n",
    "print(x_star)\n",
    "acqf = UpperConfidenceBound(beta=np.inf, q=2, bounds=bounds, verbose=1)\n",
    "x_star, y_star = acqf.optimize(gp, n=mc_samples, method=\"Halton\")\n",
    "print(x_star)"
   ]
  },
  {
   "cell_type": "markdown",
   "id": "88970457-115f-4fb8-81a1-165d73be3458",
   "metadata": {},
   "source": [
    "# VI GP"
   ]
  },
  {
   "cell_type": "code",
   "execution_count": null,
   "id": "93217108-1e5f-45f5-990a-ee2d8edcdd6a",
   "metadata": {},
   "outputs": [],
   "source": [
    "gp = VariationalInferenceGP(kernel=RBFKernel(), x=x, y=y, y_std=None, num_steps=10000)\n",
    "gp.fit()"
   ]
  },
  {
   "cell_type": "code",
   "execution_count": null,
   "id": "5761960b-d1cd-428b-b369-e365420da95b",
   "metadata": {},
   "outputs": [],
   "source": [
    "samples = gp.sample(x_grid)\n",
    "mean, std = gp.predict(x_grid)"
   ]
  },
  {
   "cell_type": "code",
   "execution_count": null,
   "id": "6b7d66c0-d809-41d7-a011-e5ccf3e204bc",
   "metadata": {},
   "outputs": [],
   "source": [
    "fig, ax = plt.subplots(1, 1, figsize=(3, 2))\n",
    "\n",
    "plot_kwargs = {\n",
    "    'linewidth': 0.0,\n",
    "    'marker': 's',\n",
    "    'ms': 1.0,\n",
    "    'capthick': 0.3,\n",
    "    'capsize': 2.0,\n",
    "    'elinewidth': 0.3\n",
    "}\n",
    "\n",
    "for yy in samples[\"y\"].squeeze():\n",
    "    ax.plot(x_grid, yy, color=\"grey\", linewidth=0.5, alpha=0.4)\n",
    "\n",
    "ax.errorbar(gp.x, gp.y, yerr=gp.y_std if gp.y_std is not None else None, color=\"black\", zorder=3, **plot_kwargs)\n",
    "ax.plot(x_grid, mean, \"r-\")\n",
    "ax.fill_between(x_grid.squeeze(), mean - std, mean + std, color=\"red\", alpha=0.5, linewidth=0, zorder=3)\n",
    "\n",
    "plt.show()"
   ]
  }
 ],
 "metadata": {
  "kernelspec": {
   "display_name": "Python 3 (ipykernel)",
   "language": "python",
   "name": "python3"
  },
  "language_info": {
   "codemirror_mode": {
    "name": "ipython",
    "version": 3
   },
   "file_extension": ".py",
   "mimetype": "text/x-python",
   "name": "python",
   "nbconvert_exporter": "python",
   "pygments_lexer": "ipython3",
   "version": "3.12.5"
  }
 },
 "nbformat": 4,
 "nbformat_minor": 5
}
