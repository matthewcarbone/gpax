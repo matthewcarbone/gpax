{
 "cells": [
  {
   "cell_type": "code",
   "execution_count": null,
   "id": "baf238f0-274a-43b5-b322-a727d92a9119",
   "metadata": {},
   "outputs": [],
   "source": [
    "%load_ext autoreload\n",
    "%autoreload 2\n",
    "%config Completer.use_jedi = False"
   ]
  },
  {
   "cell_type": "code",
   "execution_count": null,
   "id": "d2f51365-e152-48fd-b205-f12db724e29b",
   "metadata": {},
   "outputs": [],
   "source": [
    "import matplotlib.pyplot as plt\n",
    "import matplotlib as mpl\n",
    "\n",
    "# Convenience for making pretty plots\n",
    "mpl.rcParams['mathtext.fontset'] = 'stix'\n",
    "mpl.rcParams['font.family'] = 'STIXGeneral'\n",
    "plt.rc('xtick', labelsize=12)\n",
    "plt.rc('ytick', labelsize=12)\n",
    "plt.rc('axes', labelsize=12)\n",
    "mpl.rcParams['figure.dpi'] = 300"
   ]
  },
  {
   "cell_type": "code",
   "execution_count": null,
   "id": "b4210c5d-4100-4cfe-b32e-007a7f50af96",
   "metadata": {},
   "outputs": [],
   "source": [
    "from gpax.kernels import RBFKernel\n",
    "from gpax.gp import ExactGP, VariationalInferenceGP\n",
    "from gpax.experiments import SimpleSinusoidal1d\n",
    "from gpax.state import set_rng_key"
   ]
  },
  {
   "cell_type": "markdown",
   "id": "50238cd0-fabd-4ca8-a836-541c3392b493",
   "metadata": {},
   "source": [
    "# Set the experiment data and key"
   ]
  },
  {
   "cell_type": "markdown",
   "id": "72053ad7-a3db-4910-80f2-cfe4dada6957",
   "metadata": {},
   "source": [
    "GPax handles random state in the same way the `random` or `numpy` libraries do. You can seed the \"global\" random number generator, which applies to all GPax functions via `gpax.state.set_rng_key`."
   ]
  },
  {
   "cell_type": "code",
   "execution_count": null,
   "id": "219e407c-b359-497e-8dec-1ca0b2101f97",
   "metadata": {},
   "outputs": [],
   "source": [
    "set_rng_key(1)"
   ]
  },
  {
   "cell_type": "markdown",
   "id": "0da80706-1ef7-4187-8e5d-ddb74f6b862a",
   "metadata": {},
   "source": [
    "The `Experiment` abstraction is a utility for getting dummy data used for testing and demonstration. In the cell below, we use the `SimpleSinusoidal1d` dataset, which is, exactly as it sounds like, a simple sinusoidal function in one dimension. We get a default \"training\" dataset, then a grid of dense coordinates, with 100 points per dimension (`ppd`), where in this case there is just a single dimension."
   ]
  },
  {
   "cell_type": "code",
   "execution_count": null,
   "id": "d0a809f2-27fb-4450-9461-93a642504855",
   "metadata": {},
   "outputs": [],
   "source": [
    "experiment = SimpleSinusoidal1d()\n",
    "x, y = experiment.default_dataset()\n",
    "x_grid = experiment.get_dense_coordinates(ppd=100)"
   ]
  },
  {
   "cell_type": "markdown",
   "id": "9b534939-9c2c-4cf8-af2d-c0f3d5100f4a",
   "metadata": {},
   "source": [
    "# Exact (fully Bayesian) Gaussian Process"
   ]
  },
  {
   "cell_type": "markdown",
   "id": "e7e579d9-a545-49b1-8869-34a186849cb0",
   "metadata": {},
   "source": [
    "The `ExactGP` object is a fully Bayesian implementation of a Gaussian Process. At minimum, it takes a kernel object during instantiation (more on kernels in a later notebook, for now we'll use a simple Radial Basis Function kernel). Training is performed using Markov Chain Monte Carlo (MCMC) via the `numpyro` package. There are three different ways to use every GPax GP:\n",
    "1. Without data and without fitting (samples drawn from the prior)\n",
    "2. With data and without fitting (samples drawn from the posterior but without inference)\n",
    "3. With data and with fitting (samples drawn from the posterior after inference)\n",
    "\n",
    "Give each of the below a try and see how it changes the result! _Note: only call `fit` on #3!_"
   ]
  },
  {
   "cell_type": "code",
   "execution_count": null,
   "id": "7158958f-49dc-48ca-a998-fbf181101c28",
   "metadata": {},
   "outputs": [],
   "source": [
    "# 1\n",
    "gp = ExactGP(kernel=RBFKernel(), x=None, y=None, y_std=None)\n",
    "\n",
    "# 2\n",
    "gp = ExactGP(kernel=RBFKernel(), x=x, y=y, y_std=None)\n",
    "\n",
    "# 3\n",
    "gp = ExactGP(kernel=RBFKernel(), x=x, y=y, y_std=None)\n",
    "gp.fit()"
   ]
  },
  {
   "cell_type": "markdown",
   "id": "3bb22b4c-1f3a-42fa-99b8-8fbf6c83e89f",
   "metadata": {},
   "source": [
    "There are also three ways to specify observation uncertainty in the form of `y_std`. Essentially, `y_std^2` is the diagonal of the covariance matrix.\n",
    "1. Providing `y_std=None` allows the GP itself to learn the noise during inference.\n",
    "2. Providing `y_std=0` forces the GP to have zero noise (perfect interpolant).\n",
    "3. Providing `y_std>0` forces the GP to have non-zero noise.\n",
    "\n",
    "_Note: for 2 and 3, if a scalar is provided, that scalar is broadcast to all observations in the training data; if a vector is provided, it must be of the same shape as `y`, and each observation will have that corresponding uncertainty._"
   ]
  },
  {
   "cell_type": "markdown",
   "id": "d4dde0d4-cd95-499e-b33f-3caf5f3199f9",
   "metadata": {},
   "source": [
    "**At this point, you should have `gp` initialized and possibly fit!**"
   ]
  },
  {
   "cell_type": "markdown",
   "id": "3a793e0a-def7-4292-b42e-35160c66b71a",
   "metadata": {},
   "source": [
    "Now it's time to predict. There are two ways to do this, `sample` and `predict`. \n",
    "1. `sample` produces every sample over the GP for every kernel hyperparameter.\n",
    "2. `predict` is the simplest method as it provides two simple outputs, the mean and standard deviation of the GP at every point provided to the function.\n",
    "\n",
    "For now, we will just focus on using `predict`."
   ]
  },
  {
   "cell_type": "code",
   "execution_count": null,
   "id": "a3ef6492-d3c9-4101-bc22-81f6129fe40b",
   "metadata": {},
   "outputs": [],
   "source": [
    "mu, sd = gp.predict(x_grid)\n",
    "ci = [mu - 2.0 * sd, mu + 2.0 * sd]  # 95% confidence interval"
   ]
  },
  {
   "cell_type": "markdown",
   "id": "81e7ff5c-2952-4f29-b76c-fd6fb414609f",
   "metadata": {},
   "source": [
    "It's also worth noting that `predict` takes a \"fast\" keyword argument. If `True`, only the median of the hyper parameters is used (with `gp_samples`, optionally provided at class instantiation, dictating how many samples _per hyper parameter_ are taken from the GP with those hyper parameters). This means a factor of `hp_samples` less hyper parameters are needed to be taken during prediction, which can dramatically speed up the code at prediction time. Note that `fast=False` by default. Give it a try!"
   ]
  },
  {
   "cell_type": "code",
   "execution_count": null,
   "id": "92151142-0970-420b-adfd-803683f19b5f",
   "metadata": {},
   "outputs": [],
   "source": [
    "fig, ax = plt.subplots(1, 1, figsize=(3, 2))\n",
    "\n",
    "plot_kwargs = {\n",
    "    'linewidth': 0.0,\n",
    "    'marker': 's',\n",
    "    'ms': 1.0,\n",
    "    'capthick': 0.3,\n",
    "    'capsize': 2.0,\n",
    "    'elinewidth': 0.3\n",
    "}\n",
    "\n",
    "ax.errorbar(x, y, yerr=gp.y_std if gp.y_std is not None else None, color=\"black\", zorder=3, **plot_kwargs, label=\"Observations\")\n",
    "ax.plot(x_grid, mu, \"r-\", label=r\"$\\mu(x)$\")\n",
    "ax.fill_between(x_grid.squeeze(), *ci, color=\"red\", alpha=0.5, linewidth=0, zorder=3, label=r\"$\\mu(x) \\pm 2\\sigma(x)$\")\n",
    "\n",
    "ax.set_xlabel(r\"$x$\")\n",
    "ax.set_ylabel(r\"$f(x)$\")\n",
    "ax.legend(frameon=False, bbox_to_anchor=(1, 0.5), loc=\"center left\")\n",
    "\n",
    "plt.show()"
   ]
  },
  {
   "cell_type": "markdown",
   "id": "59bb0b72-fc16-46c7-936c-981469e6e2e2",
   "metadata": {},
   "source": [
    "**Experiment with everything above, and with different choices for fitting and `y_std` to see how they affect the results!**"
   ]
  },
  {
   "cell_type": "code",
   "execution_count": null,
   "id": "db61a22f-0b99-4b54-a658-faac363b5728",
   "metadata": {},
   "outputs": [],
   "source": [
    "experiment = SimpleDecayingSinusoidal1d()\n",
    "x_grid = experiment.get_dense_coordinates(ppd=100)"
   ]
  },
  {
   "cell_type": "code",
   "execution_count": null,
   "id": "afa0bfb4-9f7a-489b-b6e1-bac1d904ee08",
   "metadata": {},
   "outputs": [],
   "source": [
    "mc_samples = 1000\n",
    "max_iter = 20\n",
    "acqf = UpperConfidenceBound(beta=np.inf, q=1, bounds=experiment.domain)"
   ]
  },
  {
   "cell_type": "code",
   "execution_count": null,
   "id": "ff0361d8-2a90-47cc-81be-bef28f5206bc",
   "metadata": {},
   "outputs": [],
   "source": [
    "# Reset\n",
    "x = None\n",
    "y = None\n",
    "gps = []"
   ]
  },
  {
   "cell_type": "code",
   "execution_count": null,
   "id": "73ec3460-f138-4f99-a103-1e2285b69def",
   "metadata": {},
   "outputs": [],
   "source": [
    "for iteration in tqdm(range(max_iter), disable=False):\n",
    "    if x is not None:\n",
    "        # print(f\"{iteration} - x is not None\")\n",
    "        gp = ExactGP(kernel=RBFKernel(), x=x, y=y, y_std=1e-4, verbose=0)\n",
    "        gp.fit()\n",
    "        x_star, y_star = acqf.optimize(gp, n=mc_samples, method=\"Halton\")\n",
    "        # print(\"x_star\", x_star)\n",
    "        # print(\"y_star\", y_star)\n",
    "        y_exp = experiment(x_star)\n",
    "        x = np.append(x, x_star, axis=0)\n",
    "        # print(\"x\", x)\n",
    "        y = np.append(y, y_exp)\n",
    "        # print(\"y\", y)\n",
    "    else:\n",
    "        # print(f\"{iteration} - x is None\")\n",
    "        gp = ExactGP(kernel=RBFKernel(), x=x, y=y, y_std=None, verbose=0)\n",
    "        _ucb = UpperConfidenceBound(q=2, beta=0.0, bounds=experiment.domain)\n",
    "        x_star, y_star = _ucb.optimize(gp, n=mc_samples, method=\"Halton\")\n",
    "        # print(\"x_star\", x_star)\n",
    "        # print(\"y_star\", y_star)\n",
    "        y_exp = experiment(x_star)\n",
    "        x = x_star.copy()\n",
    "        y = y_exp.copy()\n",
    "        # print(\"x\", x)\n",
    "        # print(\"y\", y)\n",
    "    gps.append(deepcopy(gp))"
   ]
  },
  {
   "cell_type": "code",
   "execution_count": null,
   "id": "8382c890-4e5a-491c-a4ca-a6c86543d8f0",
   "metadata": {},
   "outputs": [],
   "source": [
    "len(gps)"
   ]
  },
  {
   "cell_type": "code",
   "execution_count": null,
   "id": "309c59f6-069b-48dd-9eed-f2c5144e4314",
   "metadata": {},
   "outputs": [],
   "source": [
    "fig, ax = plt.subplots(1, 1, figsize=(3, 2))\n",
    "\n",
    "plot_kwargs = {\n",
    "    'linewidth': 0.0,\n",
    "    'marker': 's',\n",
    "    'ms': 1.0,\n",
    "    'capthick': 0.3,\n",
    "    'capsize': 2.0,\n",
    "    'elinewidth': 0.3\n",
    "}\n",
    "\n",
    "gp = gps[-1]\n",
    "\n",
    "# ax.errorbar(x, y, yerr=gp.y_std if gp.y_std is not None else None, color=\"black\", zorder=3, **plot_kwargs)\n",
    "ax.scatter(x, y)\n",
    "\n",
    "result1 = gp.sample(x_grid)\n",
    "ax.plot(x_grid, result1.mu, \"r-\")\n",
    "ax.fill_between(x_grid.squeeze(), *result1.ci, color=\"red\", alpha=0.5, linewidth=0, zorder=3)\n",
    "\n",
    "result2 = gp.sample(x_grid, fast=True)\n",
    "ax.plot(x_grid, result2.mu, \"b-\")\n",
    "ax.fill_between(x_grid.squeeze(), *result2.ci, color=\"blue\", alpha=0.5, linewidth=0, zorder=3)\n",
    "\n",
    "# ax.axvline(x_star)\n",
    "# ax.axvline(x_star2[0], color=\"red\")\n",
    "# ax.axvline(x_star2[1], color=\"red\")\n",
    "\n",
    "plt.show()"
   ]
  },
  {
   "cell_type": "code",
   "execution_count": null,
   "id": "ef3c17b0-dbed-4ece-afa7-2ffeb38c0cc7",
   "metadata": {},
   "outputs": [],
   "source": [
    "fig, axs = plt.subplots(len(gps), 2, figsize=(4, 2 * len(gps)), sharex=True)\n",
    "\n",
    "plot_kwargs = {\n",
    "    'linewidth': 0.0,\n",
    "    'marker': 's',\n",
    "    'ms': 1.0,\n",
    "    'capthick': 0.3,\n",
    "    'capsize': 2.0,\n",
    "    'elinewidth': 0.3\n",
    "}\n",
    "\n",
    "for ii in range(len(gps)):\n",
    "\n",
    "    ax = axs[ii, 0]\n",
    "    \n",
    "    gp = gps[ii]\n",
    "    _x = x[:ii + 1]\n",
    "    _y = y[:ii + 1]\n",
    "    ax.scatter(_x, _y)\n",
    "\n",
    "    result1 = gp.sample(x_grid)\n",
    "    ax.plot(x_grid, result1.mu, \"r-\")\n",
    "    ax.fill_between(x_grid.squeeze(), *result1.ci, color=\"red\", alpha=0.5, linewidth=0, zorder=3)\n",
    "\n",
    "plt.show()"
   ]
  },
  {
   "cell_type": "code",
   "execution_count": null,
   "id": "9813ed8a-35b2-40cf-b78e-a592d1ab329e",
   "metadata": {},
   "outputs": [],
   "source": [
    "_x.shape"
   ]
  },
  {
   "cell_type": "code",
   "execution_count": null,
   "id": "f28a0cca-7098-4ad3-80bc-c9b976769b0c",
   "metadata": {},
   "outputs": [],
   "source": [
    "len(gps)"
   ]
  },
  {
   "cell_type": "code",
   "execution_count": null,
   "id": "448eb57b-4349-4b20-a517-1de1229a88a2",
   "metadata": {},
   "outputs": [],
   "source": [
    "for "
   ]
  },
  {
   "cell_type": "markdown",
   "id": "2e050b28-4727-47d9-ac60-94046c10c547",
   "metadata": {},
   "source": [
    "## EI"
   ]
  },
  {
   "cell_type": "code",
   "execution_count": null,
   "id": "90422ffd-7443-4971-a510-f285dca42b60",
   "metadata": {},
   "outputs": [],
   "source": []
  },
  {
   "cell_type": "markdown",
   "id": "4ae5feee-c3c7-4e02-b6d5-06485bf3cb04",
   "metadata": {},
   "source": [
    "## UCB"
   ]
  },
  {
   "cell_type": "code",
   "execution_count": null,
   "id": "65f1d17e-f0f7-4fec-945e-72d84c09d95f",
   "metadata": {},
   "outputs": [],
   "source": [
    "mc_samples = 1000\n",
    "acqf = UpperConfidenceBound(beta=np.inf, q=1, bounds=bounds, verbose=1)\n",
    "x_star, y_star = acqf.optimize(gp, n=mc_samples, method=\"Halton\")\n",
    "print(x_star)\n",
    "acqf = UpperConfidenceBound(beta=np.inf, q=2, bounds=bounds, verbose=1)\n",
    "x_star, y_star = acqf.optimize(gp, n=mc_samples, method=\"Halton\")\n",
    "print(x_star)"
   ]
  },
  {
   "cell_type": "markdown",
   "id": "88970457-115f-4fb8-81a1-165d73be3458",
   "metadata": {},
   "source": [
    "# Variational Inference Gaussian Process"
   ]
  },
  {
   "cell_type": "markdown",
   "id": "a6fe56c3-0357-4483-ba3f-36c1b0a517b0",
   "metadata": {},
   "source": [
    "The `VariationalInferenceGP` behaves much like the `ExactGP`. In fact, it's API is effectively identical. The primary difference between the Exact GP and a VI GP is that whereas the Exact GP uses Markov Chain Monte Carlo for inference, the VI GP uses gradient descent, treating the hyper parameters of the model as trainable parameter in the same sense as a machine learning model. In fact, the VI GP actually uses automatic differentiation, and as such, the final \"trained\" model has only one set of \"optimal\" hyper parameters. VI GP's can be faster, but are less accurate in general, since unlike MCMC, they are not guaranteed to converge to the exact answer."
   ]
  },
  {
   "cell_type": "code",
   "execution_count": null,
   "id": "93217108-1e5f-45f5-990a-ee2d8edcdd6a",
   "metadata": {},
   "outputs": [],
   "source": [
    "gp = VariationalInferenceGP(kernel=RBFKernel(), x=x, y=y, y_std=None, num_steps=10000)\n",
    "gp.fit()"
   ]
  },
  {
   "cell_type": "code",
   "execution_count": null,
   "id": "66676c64-c7f5-41f7-97e6-d4b791bcbb9a",
   "metadata": {},
   "outputs": [],
   "source": [
    "mu, sd = gp.predict(x_grid)\n",
    "ci = [mu - 2.0 * sd, mu + 2.0 * sd]  # 95% confidence interval"
   ]
  },
  {
   "cell_type": "code",
   "execution_count": null,
   "id": "497eea04-4bef-4fae-9580-0898fd76ef92",
   "metadata": {},
   "outputs": [],
   "source": [
    "fig, ax = plt.subplots(1, 1, figsize=(3, 2))\n",
    "\n",
    "plot_kwargs = {\n",
    "    'linewidth': 0.0,\n",
    "    'marker': 's',\n",
    "    'ms': 1.0,\n",
    "    'capthick': 0.3,\n",
    "    'capsize': 2.0,\n",
    "    'elinewidth': 0.3\n",
    "}\n",
    "\n",
    "ax.errorbar(x, y, yerr=gp.y_std if gp.y_std is not None else None, color=\"black\", zorder=3, **plot_kwargs, label=\"Observations\")\n",
    "ax.plot(x_grid, mu, \"r-\", label=r\"$\\mu(x)$\")\n",
    "ax.fill_between(x_grid.squeeze(), *ci, color=\"red\", alpha=0.5, linewidth=0, zorder=3, label=r\"$\\mu(x) \\pm 2\\sigma(x)$\")\n",
    "\n",
    "ax.set_xlabel(r\"$x$\")\n",
    "ax.set_ylabel(r\"$f(x)$\")\n",
    "ax.legend(frameon=False, bbox_to_anchor=(1, 0.5), loc=\"center left\")\n",
    "\n",
    "plt.show()"
   ]
  }
 ],
 "metadata": {
  "kernelspec": {
   "display_name": "Python 3 (ipykernel)",
   "language": "python",
   "name": "python3"
  },
  "language_info": {
   "codemirror_mode": {
    "name": "ipython",
    "version": 3
   },
   "file_extension": ".py",
   "mimetype": "text/x-python",
   "name": "python",
   "nbconvert_exporter": "python",
   "pygments_lexer": "ipython3",
   "version": "3.12.5"
  }
 },
 "nbformat": 4,
 "nbformat_minor": 5
}
